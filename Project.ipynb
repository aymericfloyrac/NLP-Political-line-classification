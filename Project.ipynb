{
  "nbformat": 4,
  "nbformat_minor": 0,
  "metadata": {
    "colab": {
      "name": "Project.ipynb",
      "provenance": [],
      "collapsed_sections": []
    },
    "kernelspec": {
      "name": "python3",
      "display_name": "Python 3"
    },
    "accelerator": "GPU",
    "widgets": {
      "application/vnd.jupyter.widget-state+json": {
        "03f1874b5e904d4b80afe77250349fbd": {
          "model_module": "@jupyter-widgets/controls",
          "model_name": "HBoxModel",
          "state": {
            "_view_name": "HBoxView",
            "_dom_classes": [],
            "_model_name": "HBoxModel",
            "_view_module": "@jupyter-widgets/controls",
            "_model_module_version": "1.5.0",
            "_view_count": null,
            "_view_module_version": "1.5.0",
            "box_style": "",
            "layout": "IPY_MODEL_fefbad9ee60c40f1986c87e606732d1f",
            "_model_module": "@jupyter-widgets/controls",
            "children": [
              "IPY_MODEL_88c8dd4525b146acaf00fc55a7a126a6",
              "IPY_MODEL_a892733bf78443b894d36adb75ede31a"
            ]
          }
        },
        "fefbad9ee60c40f1986c87e606732d1f": {
          "model_module": "@jupyter-widgets/base",
          "model_name": "LayoutModel",
          "state": {
            "_view_name": "LayoutView",
            "grid_template_rows": null,
            "right": null,
            "justify_content": null,
            "_view_module": "@jupyter-widgets/base",
            "overflow": null,
            "_model_module_version": "1.2.0",
            "_view_count": null,
            "flex_flow": null,
            "width": null,
            "min_width": null,
            "border": null,
            "align_items": null,
            "bottom": null,
            "_model_module": "@jupyter-widgets/base",
            "top": null,
            "grid_column": null,
            "overflow_y": null,
            "overflow_x": null,
            "grid_auto_flow": null,
            "grid_area": null,
            "grid_template_columns": null,
            "flex": null,
            "_model_name": "LayoutModel",
            "justify_items": null,
            "grid_row": null,
            "max_height": null,
            "align_content": null,
            "visibility": null,
            "align_self": null,
            "height": null,
            "min_height": null,
            "padding": null,
            "grid_auto_rows": null,
            "grid_gap": null,
            "max_width": null,
            "order": null,
            "_view_module_version": "1.2.0",
            "grid_template_areas": null,
            "object_position": null,
            "object_fit": null,
            "grid_auto_columns": null,
            "margin": null,
            "display": null,
            "left": null
          }
        },
        "88c8dd4525b146acaf00fc55a7a126a6": {
          "model_module": "@jupyter-widgets/controls",
          "model_name": "IntProgressModel",
          "state": {
            "_view_name": "ProgressView",
            "style": "IPY_MODEL_8ff1d14cd18a4104a74a63c1e546fc95",
            "_dom_classes": [],
            "description": "Downloading: 100%",
            "_model_name": "IntProgressModel",
            "bar_style": "success",
            "max": 445032417,
            "_view_module": "@jupyter-widgets/controls",
            "_model_module_version": "1.5.0",
            "value": 445032417,
            "_view_count": null,
            "_view_module_version": "1.5.0",
            "orientation": "horizontal",
            "min": 0,
            "description_tooltip": null,
            "_model_module": "@jupyter-widgets/controls",
            "layout": "IPY_MODEL_45f4a7128de8493aa14654fb6e4f97fd"
          }
        },
        "a892733bf78443b894d36adb75ede31a": {
          "model_module": "@jupyter-widgets/controls",
          "model_name": "HTMLModel",
          "state": {
            "_view_name": "HTMLView",
            "style": "IPY_MODEL_c46688e4f8e841889cbef219d48e04ab",
            "_dom_classes": [],
            "description": "",
            "_model_name": "HTMLModel",
            "placeholder": "​",
            "_view_module": "@jupyter-widgets/controls",
            "_model_module_version": "1.5.0",
            "value": " 445M/445M [00:14&lt;00:00, 30.3MB/s]",
            "_view_count": null,
            "_view_module_version": "1.5.0",
            "description_tooltip": null,
            "_model_module": "@jupyter-widgets/controls",
            "layout": "IPY_MODEL_72dd0fde03684d9da0b1dc58d9ef7a9f"
          }
        },
        "8ff1d14cd18a4104a74a63c1e546fc95": {
          "model_module": "@jupyter-widgets/controls",
          "model_name": "ProgressStyleModel",
          "state": {
            "_view_name": "StyleView",
            "_model_name": "ProgressStyleModel",
            "description_width": "initial",
            "_view_module": "@jupyter-widgets/base",
            "_model_module_version": "1.5.0",
            "_view_count": null,
            "_view_module_version": "1.2.0",
            "bar_color": null,
            "_model_module": "@jupyter-widgets/controls"
          }
        },
        "45f4a7128de8493aa14654fb6e4f97fd": {
          "model_module": "@jupyter-widgets/base",
          "model_name": "LayoutModel",
          "state": {
            "_view_name": "LayoutView",
            "grid_template_rows": null,
            "right": null,
            "justify_content": null,
            "_view_module": "@jupyter-widgets/base",
            "overflow": null,
            "_model_module_version": "1.2.0",
            "_view_count": null,
            "flex_flow": null,
            "width": null,
            "min_width": null,
            "border": null,
            "align_items": null,
            "bottom": null,
            "_model_module": "@jupyter-widgets/base",
            "top": null,
            "grid_column": null,
            "overflow_y": null,
            "overflow_x": null,
            "grid_auto_flow": null,
            "grid_area": null,
            "grid_template_columns": null,
            "flex": null,
            "_model_name": "LayoutModel",
            "justify_items": null,
            "grid_row": null,
            "max_height": null,
            "align_content": null,
            "visibility": null,
            "align_self": null,
            "height": null,
            "min_height": null,
            "padding": null,
            "grid_auto_rows": null,
            "grid_gap": null,
            "max_width": null,
            "order": null,
            "_view_module_version": "1.2.0",
            "grid_template_areas": null,
            "object_position": null,
            "object_fit": null,
            "grid_auto_columns": null,
            "margin": null,
            "display": null,
            "left": null
          }
        },
        "c46688e4f8e841889cbef219d48e04ab": {
          "model_module": "@jupyter-widgets/controls",
          "model_name": "DescriptionStyleModel",
          "state": {
            "_view_name": "StyleView",
            "_model_name": "DescriptionStyleModel",
            "description_width": "",
            "_view_module": "@jupyter-widgets/base",
            "_model_module_version": "1.5.0",
            "_view_count": null,
            "_view_module_version": "1.2.0",
            "_model_module": "@jupyter-widgets/controls"
          }
        },
        "72dd0fde03684d9da0b1dc58d9ef7a9f": {
          "model_module": "@jupyter-widgets/base",
          "model_name": "LayoutModel",
          "state": {
            "_view_name": "LayoutView",
            "grid_template_rows": null,
            "right": null,
            "justify_content": null,
            "_view_module": "@jupyter-widgets/base",
            "overflow": null,
            "_model_module_version": "1.2.0",
            "_view_count": null,
            "flex_flow": null,
            "width": null,
            "min_width": null,
            "border": null,
            "align_items": null,
            "bottom": null,
            "_model_module": "@jupyter-widgets/base",
            "top": null,
            "grid_column": null,
            "overflow_y": null,
            "overflow_x": null,
            "grid_auto_flow": null,
            "grid_area": null,
            "grid_template_columns": null,
            "flex": null,
            "_model_name": "LayoutModel",
            "justify_items": null,
            "grid_row": null,
            "max_height": null,
            "align_content": null,
            "visibility": null,
            "align_self": null,
            "height": null,
            "min_height": null,
            "padding": null,
            "grid_auto_rows": null,
            "grid_gap": null,
            "max_width": null,
            "order": null,
            "_view_module_version": "1.2.0",
            "grid_template_areas": null,
            "object_position": null,
            "object_fit": null,
            "grid_auto_columns": null,
            "margin": null,
            "display": null,
            "left": null
          }
        }
      }
    }
  },
  "cells": [
    {
      "cell_type": "markdown",
      "metadata": {
        "id": "mOxisT-Xica4",
        "colab_type": "text"
      },
      "source": [
        "# NLP Project - Political line classification\n",
        "\n",
        "This project consists in classifying the political line of a short text, typically a tweet. The dabase used is the one used for [INSERT LINK]. It is exclusively made of tweets posted during the French 2017 presidential election. \n",
        "\n",
        "The objective of this project is to classify the tweets into one of the five following classes: far-right, right, center, left, far-left. \n",
        "\n",
        "We use different types of models, ranging from the most simple ones (such as logistic regression) to more sophisticated one (fine-tuning CamemBERT)."
      ]
    },
    {
      "cell_type": "markdown",
      "metadata": {
        "id": "ddoHJfggJhRl",
        "colab_type": "text"
      },
      "source": [
        "# Set up on Google Colab"
      ]
    },
    {
      "cell_type": "code",
      "metadata": {
        "id": "-SGD4Py1JSEL",
        "colab_type": "code",
        "outputId": "a5b1bc4a-8e67-44e1-f748-b8b4b6322543",
        "colab": {
          "base_uri": "https://localhost:8080/",
          "height": 122
        }
      },
      "source": [
        "from google.colab import drive\n",
        "drive.mount('/content/drive')"
      ],
      "execution_count": 0,
      "outputs": [
        {
          "output_type": "stream",
          "text": [
            "Go to this URL in a browser: https://accounts.google.com/o/oauth2/auth?client_id=947318989803-6bn6qk8qdgf4n4g3pfee6491hc0brc4i.apps.googleusercontent.com&redirect_uri=urn%3aietf%3awg%3aoauth%3a2.0%3aoob&response_type=code&scope=email%20https%3a%2f%2fwww.googleapis.com%2fauth%2fdocs.test%20https%3a%2f%2fwww.googleapis.com%2fauth%2fdrive%20https%3a%2f%2fwww.googleapis.com%2fauth%2fdrive.photos.readonly%20https%3a%2f%2fwww.googleapis.com%2fauth%2fpeopleapi.readonly\n",
            "\n",
            "Enter your authorization code:\n",
            "··········\n",
            "Mounted at /content/drive\n"
          ],
          "name": "stdout"
        }
      ]
    },
    {
      "cell_type": "code",
      "metadata": {
        "id": "TJTNzNOdJcjQ",
        "colab_type": "code",
        "colab": {}
      },
      "source": [
        "import os \n",
        "#os.chdir('drive/My Drive/ENSAE/NLP')\n",
        "os.chdir('drive/My Drive/NLP')"
      ],
      "execution_count": 0,
      "outputs": []
    },
    {
      "cell_type": "code",
      "metadata": {
        "id": "DoKeLGI_Jggi",
        "colab_type": "code",
        "colab": {}
      },
      "source": [
        "%load_ext autoreload\n",
        "%autoreload 2"
      ],
      "execution_count": 0,
      "outputs": []
    },
    {
      "cell_type": "code",
      "metadata": {
        "id": "tMhddf_uak2m",
        "colab_type": "code",
        "colab": {}
      },
      "source": [
        "def boldprint(s):\n",
        "    print('\\033[1m' + s + '\\033[0m')"
      ],
      "execution_count": 0,
      "outputs": []
    },
    {
      "cell_type": "markdown",
      "metadata": {
        "id": "pDiqbR_gJrK0",
        "colab_type": "text"
      },
      "source": [
        "# 1. Data importation and description"
      ]
    },
    {
      "cell_type": "code",
      "metadata": {
        "id": "ZrcDDuyyJ680",
        "colab_type": "code",
        "colab": {}
      },
      "source": [
        "import numpy as np \n",
        "import pandas as pd\n",
        "import matplotlib.pyplot as plt\n",
        "import random \n",
        "\n",
        "np.random.seed(0)\n",
        "random.seed(0)"
      ],
      "execution_count": 0,
      "outputs": []
    },
    {
      "cell_type": "code",
      "metadata": {
        "id": "_Ht_y_EHJuuq",
        "colab_type": "code",
        "colab": {}
      },
      "source": [
        "df = pd.read_csv('data/base_tweets_propre_sans_emoji.csv')"
      ],
      "execution_count": 0,
      "outputs": []
    },
    {
      "cell_type": "code",
      "metadata": {
        "id": "9UILfVt6KBFD",
        "colab_type": "code",
        "outputId": "2e9afd90-d6c8-40fa-8145-4f6d053275be",
        "colab": {
          "base_uri": "https://localhost:8080/",
          "height": 336
        }
      },
      "source": [
        "fig, (ax1,ax2) = plt.subplots(1,2,figsize=(14,5))\n",
        "ax1.hist(df['couleur_politique'])\n",
        "ax1.set_title('Distribution of political line across the dataset')\n",
        "ax2.hist(df['mois'])\n",
        "ax2.set_title('Time distribution')\n",
        "plt.show()"
      ],
      "execution_count": 0,
      "outputs": [
        {
          "output_type": "display_data",
          "data": {
            "image/png": "[encoded data removed]",
            "text/plain": [
              "<Figure size 1008x360 with 2 Axes>"
            ]
          },
          "metadata": {
            "tags": []
          }
        }
      ]
    },
    {
      "cell_type": "markdown",
      "metadata": {
        "id": "j6eaXTyXjhtM",
        "colab_type": "text"
      },
      "source": [
        "Our dataset is approximately balanced, even if we have a slightly dominant class (Right). "
      ]
    },
    {
      "cell_type": "code",
      "metadata": {
        "id": "5L8ZHAR9Kcz3",
        "colab_type": "code",
        "outputId": "754630b3-55d0-4d66-870c-90a0b3e64907",
        "colab": {
          "base_uri": "https://localhost:8080/",
          "height": 173
        }
      },
      "source": [
        "pd.crosstab(df.mois, df.couleur_politique)"
      ],
      "execution_count": 0,
      "outputs": [
        {
          "output_type": "execute_result",
          "data": {
            "text/html": [
              "<div>\n",
              "<style scoped>\n",
              "    .dataframe tbody tr th:only-of-type {\n",
              "        vertical-align: middle;\n",
              "    }\n",
              "\n",
              "    .dataframe tbody tr th {\n",
              "        vertical-align: top;\n",
              "    }\n",
              "\n",
              "    .dataframe thead th {\n",
              "        text-align: right;\n",
              "    }\n",
              "</style>\n",
              "<table border=\"1\" class=\"dataframe\">\n",
              "  <thead>\n",
              "    <tr style=\"text-align: right;\">\n",
              "      <th>couleur_politique</th>\n",
              "      <th>C</th>\n",
              "      <th>D</th>\n",
              "      <th>ED</th>\n",
              "      <th>EG</th>\n",
              "      <th>G</th>\n",
              "    </tr>\n",
              "    <tr>\n",
              "      <th>mois</th>\n",
              "      <th></th>\n",
              "      <th></th>\n",
              "      <th></th>\n",
              "      <th></th>\n",
              "      <th></th>\n",
              "    </tr>\n",
              "  </thead>\n",
              "  <tbody>\n",
              "    <tr>\n",
              "      <th>Apr</th>\n",
              "      <td>3604</td>\n",
              "      <td>5229</td>\n",
              "      <td>4426</td>\n",
              "      <td>3609</td>\n",
              "      <td>2402</td>\n",
              "    </tr>\n",
              "    <tr>\n",
              "      <th>Mar</th>\n",
              "      <td>2752</td>\n",
              "      <td>8382</td>\n",
              "      <td>5504</td>\n",
              "      <td>5269</td>\n",
              "      <td>4834</td>\n",
              "    </tr>\n",
              "    <tr>\n",
              "      <th>May</th>\n",
              "      <td>861</td>\n",
              "      <td>57</td>\n",
              "      <td>1005</td>\n",
              "      <td>243</td>\n",
              "      <td>200</td>\n",
              "    </tr>\n",
              "  </tbody>\n",
              "</table>\n",
              "</div>"
            ],
            "text/plain": [
              "couleur_politique     C     D    ED    EG     G\n",
              "mois                                           \n",
              "Apr                3604  5229  4426  3609  2402\n",
              "Mar                2752  8382  5504  5269  4834\n",
              "May                 861    57  1005   243   200"
            ]
          },
          "metadata": {
            "tags": []
          },
          "execution_count": 8
        }
      ]
    },
    {
      "cell_type": "markdown",
      "metadata": {
        "id": "zKMBk-TsLKT6",
        "colab_type": "text"
      },
      "source": [
        "# 2. Classification with random splitting"
      ]
    },
    {
      "cell_type": "markdown",
      "metadata": {
        "id": "8zR12Mr1LREN",
        "colab_type": "text"
      },
      "source": [
        "We take a first approach where we split the data without any time consideration (ie evenly across March, April and May)."
      ]
    },
    {
      "cell_type": "code",
      "metadata": {
        "id": "jOB11psaLQXB",
        "colab_type": "code",
        "outputId": "3da36207-a4c3-4450-d91c-b12ff7394c7f",
        "colab": {
          "base_uri": "https://localhost:8080/",
          "height": 71
        }
      },
      "source": [
        "from sklearn.ensemble import RandomForestClassifier\n",
        "from sklearn.linear_model import LogisticRegression\n",
        "from sklearn.svm import SVC\n",
        "from sklearn.neural_network import MLPClassifier\n",
        "from sklearn.metrics import classification_report\n",
        "from utils.evaluation import evaluate,plot_confusion_matrix\n",
        "from utils.utils import random_split_dataset,time_split_dataset\n",
        "import time"
      ],
      "execution_count": 0,
      "outputs": [
        {
          "output_type": "stream",
          "text": [
            "/usr/local/lib/python3.6/dist-packages/statsmodels/tools/_testing.py:19: FutureWarning: pandas.util.testing is deprecated. Use the functions in the public API at pandas.testing instead.\n",
            "  import pandas.util.testing as tm\n"
          ],
          "name": "stderr"
        }
      ]
    },
    {
      "cell_type": "code",
      "metadata": {
        "id": "sBokF1q5U3sj",
        "colab_type": "code",
        "colab": {}
      },
      "source": [
        "Xtrain,ytrain,Xval,yval,Xtest,ytest,label_map = random_split_dataset(df,validation=True)"
      ],
      "execution_count": 0,
      "outputs": []
    },
    {
      "cell_type": "markdown",
      "metadata": {
        "id": "7uBdUz1fMMAG",
        "colab_type": "text"
      },
      "source": [
        "## 2.1 Classification without deep learning"
      ]
    },
    {
      "cell_type": "markdown",
      "metadata": {
        "id": "93w7ogjWVEXI",
        "colab_type": "text"
      },
      "source": [
        "We will evaluate a selection of models in order to have a benchmark for the deep learning methods we will use afterwards."
      ]
    },
    {
      "cell_type": "code",
      "metadata": {
        "id": "x0Jph9E9VDZa",
        "colab_type": "code",
        "colab": {}
      },
      "source": [
        "classifiers = {'Logistic regression':LogisticRegression(C=10, class_weight=None, dual=False, fit_intercept=True,\n",
        "                                                        intercept_scaling=1, l1_ratio=None, max_iter=200,\n",
        "                                                        multi_class='auto', n_jobs=None, penalty='l2',\n",
        "                                                        random_state=0, solver='lbfgs', tol=0.0001, verbose=0,\n",
        "                                                        warm_start=False),\n",
        "               'SVM': SVC(C=100, cache_size=200, class_weight=None, coef0=0.0,\n",
        "                          decision_function_shape='ovr', degree=3, gamma=0.01, kernel='rbf',\n",
        "                          max_iter=-1, probability=False, random_state=0, shrinking=True, tol=0.001,\n",
        "                          verbose=False),\n",
        "               'Random Forest': RandomForestClassifier(bootstrap=True, ccp_alpha=0.0, class_weight=None,\n",
        "                                                        criterion='gini', max_depth=700, max_features='log2',\n",
        "                                                        max_leaf_nodes=None, max_samples=None,\n",
        "                                                        min_impurity_decrease=0.0, min_impurity_split=None,\n",
        "                                                        min_samples_leaf=1, min_samples_split=500,\n",
        "                                                        min_weight_fraction_leaf=0.0, n_estimators=600,\n",
        "                                                        n_jobs=None, oob_score=False, random_state=0, verbose=0,\n",
        "                                                        warm_start=False),\n",
        "               'Multi Layer Perceptron':MLPClassifier(hidden_layer_sizes= (50,50,50),\n",
        "                                        activation= 'relu',\n",
        "                                        solver = 'adam',\n",
        "                                        batch_size = 32,\n",
        "                                        alpha = 0.01,\n",
        "                                        learning_rate = 'adaptive', \n",
        "                                        random_state=0)}"
      ],
      "execution_count": 0,
      "outputs": []
    },
    {
      "cell_type": "markdown",
      "metadata": {
        "id": "0NmFNaetfXRa",
        "colab_type": "text"
      },
      "source": [
        "We use the following code to evaluate the models on the validation set. "
      ]
    },
    {
      "cell_type": "code",
      "metadata": {
        "id": "cEtcWgWxYt2Y",
        "colab_type": "code",
        "outputId": "80aff87d-3869-4ece-c7c5-39f15d772e75",
        "colab": {
          "base_uri": "https://localhost:8080/",
          "height": 357
        }
      },
      "source": [
        "for name,clf in classifiers.items():\n",
        "    clf.fit(Xtrain,ytrain)\n",
        "    ypred = clf.predict(Xval)\n",
        "    boldprint('--------------'+name+'--------------')\n",
        "    print(evaluate(yval,ypred))"
      ],
      "execution_count": 0,
      "outputs": [
        {
          "output_type": "stream",
          "text": [
            "/usr/local/lib/python3.6/dist-packages/sklearn/linear_model/_logistic.py:940: ConvergenceWarning: lbfgs failed to converge (status=1):\n",
            "STOP: TOTAL NO. of ITERATIONS REACHED LIMIT.\n",
            "\n",
            "Increase the number of iterations (max_iter) or scale the data as shown in:\n",
            "    https://scikit-learn.org/stable/modules/preprocessing.html\n",
            "Please also refer to the documentation for alternative solver options:\n",
            "    https://scikit-learn.org/stable/modules/linear_model.html#logistic-regression\n",
            "  extra_warning_msg=_LOGISTIC_SOLVER_CONVERGENCE_MSG)\n"
          ],
          "name": "stderr"
        },
        {
          "output_type": "stream",
          "text": [
            "\u001b[1m--------------Logistic regression--------------\u001b[0m\n",
            "   accuracy   recall  precision  f1-score\n",
            "0   0.94522  0.94281   0.947772  0.945142\n",
            "\u001b[1m--------------SVM--------------\u001b[0m\n",
            "   accuracy    recall  precision  f1-score\n",
            "0  0.952351  0.948774   0.955501   0.95189\n",
            "\u001b[1m--------------Random Forest--------------\u001b[0m\n",
            "   accuracy    recall  precision  f1-score\n",
            "0  0.943979  0.937025   0.956169  0.945292\n",
            "\u001b[1m--------------Multi Layer Perceptron--------------\u001b[0m\n",
            "   accuracy    recall  precision  f1-score\n",
            "0  0.947597  0.946857   0.947898  0.947338\n"
          ],
          "name": "stdout"
        }
      ]
    },
    {
      "cell_type": "markdown",
      "metadata": {
        "id": "k9jKEctefdkc",
        "colab_type": "text"
      },
      "source": [
        "We only show here, for clarity sake, the results with the best hyperparameters."
      ]
    },
    {
      "cell_type": "code",
      "metadata": {
        "id": "rY0nCDkqWzqI",
        "colab_type": "code",
        "outputId": "c9f35d93-d6f7-4951-9c1d-90b671625712",
        "colab": {
          "base_uri": "https://localhost:8080/",
          "height": 34
        }
      },
      "source": [
        "sorted_labels = [label_map[key] for key in sorted(label_map)]\n",
        "sorted_labels"
      ],
      "execution_count": 0,
      "outputs": [
        {
          "output_type": "execute_result",
          "data": {
            "text/plain": [
              "['C', 'D', 'ED', 'EG', 'G']"
            ]
          },
          "metadata": {
            "tags": []
          },
          "execution_count": 11
        }
      ]
    },
    {
      "cell_type": "code",
      "metadata": {
        "id": "Vy5a8f8VIzm_",
        "colab_type": "code",
        "colab": {}
      },
      "source": [
        "Xtrain_ = vstack((Xtrain, Xval)) \n",
        "ytrain_ = hstack((ytrain, yval)).T"
      ],
      "execution_count": 0,
      "outputs": []
    },
    {
      "cell_type": "code",
      "metadata": {
        "id": "1Yrb2Xgcfklh",
        "colab_type": "code",
        "outputId": "dec39bd6-8b00-45ce-b0db-6b4644c9eb87",
        "colab": {
          "base_uri": "https://localhost:8080/",
          "height": 1000
        }
      },
      "source": [
        "for name,clf in classifiers.items():\n",
        "    boldprint('--------------'+name+'--------------')\n",
        "    start = time.time()\n",
        "    clf.fit(Xtrain,ytrain)\n",
        "    end = time.time()\n",
        "    print(f'Training time: {end-start:.1f}s')\n",
        "    ypred = clf.predict(Xtest)\n",
        "    print(classification_report(ytest,ypred,target_names = sorted_labels))\n",
        "    plot_confusion_matrix(ytest,ypred,label_map=label_map)"
      ],
      "execution_count": 0,
      "outputs": [
        {
          "output_type": "stream",
          "text": [
            "------Logit------\n"
          ],
          "name": "stdout"
        },
        {
          "output_type": "stream",
          "text": [
            "/usr/local/lib/python3.6/dist-packages/sklearn/linear_model/_logistic.py:940: ConvergenceWarning: lbfgs failed to converge (status=1):\n",
            "STOP: TOTAL NO. of ITERATIONS REACHED LIMIT.\n",
            "\n",
            "Increase the number of iterations (max_iter) or scale the data as shown in:\n",
            "    https://scikit-learn.org/stable/modules/preprocessing.html\n",
            "Please also refer to the documentation for alternative solver options:\n",
            "    https://scikit-learn.org/stable/modules/linear_model.html#logistic-regression\n",
            "  extra_warning_msg=_LOGISTIC_SOLVER_CONVERGENCE_MSG)\n"
          ],
          "name": "stderr"
        },
        {
          "output_type": "stream",
          "text": [
            "Training time: 5.5s\n",
            "              precision    recall  f1-score   support\n",
            "\n",
            "           C       0.95      0.93      0.94      1443\n",
            "           D       0.93      0.96      0.94      2734\n",
            "          ED       0.96      0.95      0.96      2187\n",
            "          EG       0.98      0.96      0.97      1825\n",
            "           G       0.95      0.94      0.94      1487\n",
            "\n",
            "    accuracy                           0.95      9676\n",
            "   macro avg       0.95      0.95      0.95      9676\n",
            "weighted avg       0.95      0.95      0.95      9676\n",
            "\n"
          ],
          "name": "stdout"
        },
        {
          "output_type": "display_data",
          "data": {
            "image/png": "[encoded data removed]",
            "text/plain": [
              "<Figure size 360x360 with 2 Axes>"
            ]
          },
          "metadata": {
            "tags": []
          }
        },
        {
          "output_type": "stream",
          "text": [
            "------SVM------\n",
            "Training time: 184.7s\n",
            "              precision    recall  f1-score   support\n",
            "\n",
            "           C       0.97      0.93      0.95      1443\n",
            "           D       0.93      0.97      0.95      2734\n",
            "          ED       0.96      0.96      0.96      2187\n",
            "          EG       0.98      0.96      0.97      1825\n",
            "           G       0.96      0.94      0.95      1487\n",
            "\n",
            "    accuracy                           0.96      9676\n",
            "   macro avg       0.96      0.95      0.96      9676\n",
            "weighted avg       0.96      0.96      0.96      9676\n",
            "\n"
          ],
          "name": "stdout"
        },
        {
          "output_type": "display_data",
          "data": {
            "image/png": "[encoded data removed]",
            "text/plain": [
              "<Figure size 360x360 with 2 Axes>"
            ]
          },
          "metadata": {
            "tags": []
          }
        },
        {
          "output_type": "stream",
          "text": [
            "------RF------\n",
            "Training time: 89.9s\n",
            "              precision    recall  f1-score   support\n",
            "\n",
            "           C       0.98      0.91      0.94      1443\n",
            "           D       0.89      0.98      0.93      2734\n",
            "          ED       0.97      0.95      0.96      2187\n",
            "          EG       0.97      0.96      0.96      1825\n",
            "           G       0.98      0.91      0.94      1487\n",
            "\n",
            "    accuracy                           0.95      9676\n",
            "   macro avg       0.96      0.94      0.95      9676\n",
            "weighted avg       0.95      0.95      0.95      9676\n",
            "\n"
          ],
          "name": "stdout"
        },
        {
          "output_type": "display_data",
          "data": {
            "image/png": "[encoded data removed]",
            "text/plain": [
              "<Figure size 360x360 with 2 Axes>"
            ]
          },
          "metadata": {
            "tags": []
          }
        }
      ]
    },
    {
      "cell_type": "markdown",
      "metadata": {
        "id": "fw-3HHNTVu_9",
        "colab_type": "text"
      },
      "source": [
        "## 2.2 Classification using custom neural networks "
      ]
    },
    {
      "cell_type": "code",
      "metadata": {
        "id": "rDJLHyaBV9-3",
        "colab_type": "code",
        "colab": {}
      },
      "source": [
        "!pip install transformers"
      ],
      "execution_count": 0,
      "outputs": []
    },
    {
      "cell_type": "code",
      "metadata": {
        "id": "yLgJrOaPV0v_",
        "colab_type": "code",
        "colab": {}
      },
      "source": [
        "import torch\n",
        "import torch.nn as nn\n",
        "import torch.optim as optim\n",
        "from torch.utils.data import Dataset\n",
        "from transformers import BertTokenizer, AutoModel, AutoTokenizer, CamembertModel\n",
        "import pandas as pd\n",
        "from torch.utils.data import DataLoader\n",
        "import pdb\n",
        "from sklearn.metrics import accuracy_score\n",
        "from utils.tweet_dataset import TweetDatasetBERT,build_tweet_dataset\n",
        "from utils.evaluation import get_predictions\n",
        "from classifiers import CamembertClassifier, RNN, CNN,train"
      ],
      "execution_count": 0,
      "outputs": []
    },
    {
      "cell_type": "code",
      "metadata": {
        "id": "yxcrov92j7gt",
        "colab_type": "code",
        "outputId": "8aafbce0-3959-467f-bf8f-922aa81e98f9",
        "colab": {
          "base_uri": "https://localhost:8080/",
          "height": 34
        }
      },
      "source": [
        "device = torch.device(\"cuda\" if torch.cuda.is_available() else \"cpu\")\n",
        "device"
      ],
      "execution_count": 0,
      "outputs": [
        {
          "output_type": "execute_result",
          "data": {
            "text/plain": [
              "device(type='cuda')"
            ]
          },
          "metadata": {
            "tags": []
          },
          "execution_count": 15
        }
      ]
    },
    {
      "cell_type": "code",
      "metadata": {
        "id": "rh-WFA5Pj_1C",
        "colab_type": "code",
        "colab": {}
      },
      "source": [
        "dftrain,ytrain,dfval,yval,dftest,ytest,label_map = random_split_dataset(df,validation=True,deep=True)"
      ],
      "execution_count": 0,
      "outputs": []
    },
    {
      "cell_type": "code",
      "metadata": {
        "id": "BfECLc3NYULh",
        "colab_type": "code",
        "colab": {}
      },
      "source": [
        "train_set,tokenizer = build_tweet_dataset(dftrain)\n",
        "val_set, _ = build_tweet_dataset(dfval,tokenizer)\n",
        "test_set, _ = build_tweet_dataset(dftest,tokenizer)\n",
        "\n",
        "train_loader = DataLoader(train_set,batch_size = 32,num_workers = 5,drop_last=True)\n",
        "val_loader = DataLoader(val_set,batch_size = 32,num_workers = 5,drop_last=True)\n",
        "test_loader = DataLoader(test_set,batch_size = 1,num_workers = 5,drop_last=False)"
      ],
      "execution_count": 0,
      "outputs": []
    },
    {
      "cell_type": "markdown",
      "metadata": {
        "id": "DKyVndTF0O6D",
        "colab_type": "text"
      },
      "source": [
        "### 2.2.1 Custom LSTM"
      ]
    },
    {
      "cell_type": "markdown",
      "metadata": {
        "id": "REsXl9w-0RwZ",
        "colab_type": "text"
      },
      "source": [
        "We implement a relatively shallow LSTM (2 layers), which uses no pretrained embedding. "
      ]
    },
    {
      "cell_type": "code",
      "metadata": {
        "id": "3PYvbQkHs15m",
        "colab_type": "code",
        "colab": {}
      },
      "source": [
        "vocab_size = tokenizer.num_words+1\n",
        "output_size = 5\n",
        "embedding_dim = 128\n",
        "hidden_dim = 100\n",
        "n_layers = 2\n",
        "model = RNN(vocab_size, output_size, embedding_dim, hidden_dim, n_layers)\n",
        "model = model.to(device)"
      ],
      "execution_count": 0,
      "outputs": []
    },
    {
      "cell_type": "code",
      "metadata": {
        "id": "LAYu43Ths-Jc",
        "colab_type": "code",
        "colab": {}
      },
      "source": [
        "criterion = nn.CrossEntropyLoss()\n",
        "optimizer = torch.optim.Adam(model.parameters(), lr=0.05)\n",
        "scheduler = None"
      ],
      "execution_count": 0,
      "outputs": []
    },
    {
      "cell_type": "code",
      "metadata": {
        "id": "zobJtkXd0JWM",
        "colab_type": "code",
        "outputId": "dea0d187-29ae-42db-baca-276491a5e236",
        "colab": {
          "base_uri": "https://localhost:8080/",
          "height": 709
        }
      },
      "source": [
        "train(model, 'rnn',criterion, optimizer,scheduler, train_loader, val_loader, n_epochs=2, print_every=100, gpu=True)"
      ],
      "execution_count": 0,
      "outputs": [
        {
          "output_type": "stream",
          "text": [
            "Iteration 100 of epoch 1 complete. Loss : 1.5219147205352783, Accuracy 0.28125 \n",
            "Iteration 200 of epoch 1 complete. Loss : 1.3682001829147339, Accuracy 0.5 \n",
            "Iteration 300 of epoch 1 complete. Loss : 1.4423495531082153, Accuracy 0.46875 \n",
            "Iteration 400 of epoch 1 complete. Loss : 1.6409143209457397, Accuracy 0.15625 \n",
            "Iteration 500 of epoch 1 complete. Loss : 1.5497667789459229, Accuracy 0.28125 \n",
            "Iteration 600 of epoch 1 complete. Loss : 1.301340937614441, Accuracy 0.65625 \n",
            "Iteration 700 of epoch 1 complete. Loss : 1.4723342657089233, Accuracy 0.375 \n",
            "Iteration 800 of epoch 1 complete. Loss : 1.494044542312622, Accuracy 0.375 \n",
            "Iteration 900 of epoch 1 complete. Loss : 1.4676028490066528, Accuracy 0.4375 \n",
            "EVALUATION Validation set : mean loss 1.4589365811537434 || mean accuracy 0.26189982891082764\n",
            "Iteration 100 of epoch 2 complete. Loss : 1.5724538564682007, Accuracy 0.28125 \n",
            "Iteration 200 of epoch 2 complete. Loss : 1.4166492223739624, Accuracy 0.5 \n",
            "Iteration 300 of epoch 2 complete. Loss : 1.6471222639083862, Accuracy 0.375 \n",
            "Iteration 400 of epoch 2 complete. Loss : 1.6556497812271118, Accuracy 0.21875 \n",
            "Iteration 500 of epoch 2 complete. Loss : 1.6269289255142212, Accuracy 0.34375 \n",
            "Iteration 600 of epoch 2 complete. Loss : 1.4647547006607056, Accuracy 0.5 \n",
            "Iteration 700 of epoch 2 complete. Loss : 1.5456600189208984, Accuracy 0.28125 \n",
            "Iteration 800 of epoch 2 complete. Loss : 1.569940447807312, Accuracy 0.3125 \n",
            "Iteration 900 of epoch 2 complete. Loss : 1.5064692497253418, Accuracy 0.40625 \n",
            "EVALUATION Validation set : mean loss 1.543335171330054 || mean accuracy 0.2682119309902191\n"
          ],
          "name": "stdout"
        },
        {
          "output_type": "display_data",
          "data": {
            "image/png": "[encoded data removed]",
            "text/plain": [
              "<Figure size 1008x360 with 2 Axes>"
            ]
          },
          "metadata": {
            "tags": [],
            "needs_background": "light"
          }
        }
      ]
    },
    {
      "cell_type": "code",
      "metadata": {
        "id": "kPwuCxv6Npgo",
        "colab_type": "code",
        "outputId": "2a83f011-63ae-4cd2-f726-f0d208fdc388",
        "colab": {
          "base_uri": "https://localhost:8080/",
          "height": 627
        }
      },
      "source": [
        "model.eval()\n",
        "ytest,ypred = get_predictions(model,test_loader,model_type='rnn')\n",
        "print(classification_report(ytest,ypred,target_names = sorted_labels))\n",
        "plot_confusion_matrix(ytest,ypred,label_map=label_map)"
      ],
      "execution_count": 0,
      "outputs": [
        {
          "output_type": "stream",
          "text": [
            "/usr/local/lib/python3.6/dist-packages/sklearn/metrics/_classification.py:1272: UndefinedMetricWarning: Precision and F-score are ill-defined and being set to 0.0 in labels with no predicted samples. Use `zero_division` parameter to control this behavior.\n",
            "  _warn_prf(average, modifier, msg_start, len(result))\n"
          ],
          "name": "stderr"
        },
        {
          "output_type": "stream",
          "text": [
            "              precision    recall  f1-score   support\n",
            "\n",
            "           C       0.00      0.00      0.00      1443\n",
            "           D       0.32      0.94      0.48      2734\n",
            "          ED       0.40      0.32      0.36      2187\n",
            "          EG       0.00      0.00      0.00      1825\n",
            "           G       0.00      0.00      0.00      1487\n",
            "\n",
            "    accuracy                           0.34      9676\n",
            "   macro avg       0.14      0.25      0.17      9676\n",
            "weighted avg       0.18      0.34      0.22      9676\n",
            "\n"
          ],
          "name": "stdout"
        },
        {
          "output_type": "display_data",
          "data": {
            "image/png": "[encoded data removed]",
            "text/plain": [
              "<Figure size 360x360 with 2 Axes>"
            ]
          },
          "metadata": {
            "tags": [],
            "needs_background": "light"
          }
        }
      ]
    },
    {
      "cell_type": "markdown",
      "metadata": {
        "id": "8w8N_hQf0bqM",
        "colab_type": "text"
      },
      "source": [
        "### 2.2.2 Custom Convolutional Network"
      ]
    },
    {
      "cell_type": "markdown",
      "metadata": {
        "id": "yVgKbH7x0frh",
        "colab_type": "text"
      },
      "source": [
        "Convolutional networks are quite commonly used in the literature of NLP problems, so we implement a custom convolutional network. "
      ]
    },
    {
      "cell_type": "code",
      "metadata": {
        "id": "NR5WAZH56ZSy",
        "colab_type": "code",
        "outputId": "3893500e-54f4-412a-e1ad-9642944ffa7b",
        "colab": {
          "base_uri": "https://localhost:8080/",
          "height": 204
        }
      },
      "source": [
        "max_features = 8000\n",
        "embed_dim = 128\n",
        "model = CNN(max_features,embed_dim)\n",
        "model = model.to(device)"
      ],
      "execution_count": 0,
      "outputs": [
        {
          "output_type": "execute_result",
          "data": {
            "text/plain": [
              "CNN(\n",
              "  (embedding): Embedding(8000, 128)\n",
              "  (convs1): ModuleList(\n",
              "    (0): Conv2d(1, 64, kernel_size=(1, 128), stride=(1, 1))\n",
              "    (1): Conv2d(1, 64, kernel_size=(2, 128), stride=(1, 1))\n",
              "    (2): Conv2d(1, 64, kernel_size=(3, 128), stride=(1, 1))\n",
              "    (3): Conv2d(1, 64, kernel_size=(5, 128), stride=(1, 1))\n",
              "  )\n",
              "  (dropout): Dropout(p=0.1, inplace=False)\n",
              "  (fc1): Linear(in_features=256, out_features=5, bias=True)\n",
              ")"
            ]
          },
          "metadata": {
            "tags": []
          },
          "execution_count": 33
        }
      ]
    },
    {
      "cell_type": "code",
      "metadata": {
        "id": "vWZFca6P63VQ",
        "colab_type": "code",
        "colab": {}
      },
      "source": [
        "criterion = nn.CrossEntropyLoss()\n",
        "optimizer = torch.optim.Adam(model.parameters(), lr=0.01)\n",
        "lr_scheduler = torch.optim.lr_scheduler.ReduceLROnPlateau(optimizer, patience = 2, verbose=True)"
      ],
      "execution_count": 0,
      "outputs": []
    },
    {
      "cell_type": "code",
      "metadata": {
        "id": "QDZg_0CI7HZX",
        "colab_type": "code",
        "outputId": "2e21ed65-9314-4195-aa79-a86d451ff157",
        "colab": {
          "base_uri": "https://localhost:8080/",
          "height": 709
        }
      },
      "source": [
        "train(model, 'cnn',criterion, optimizer,scheduler, train_loader, val_loader, n_epochs=2, print_every=100, gpu=True)"
      ],
      "execution_count": 0,
      "outputs": [
        {
          "output_type": "stream",
          "text": [
            "Iteration 100 of epoch 1 complete. Loss : 0.8884888887405396, Accuracy 0.9375 \n",
            "Iteration 200 of epoch 1 complete. Loss : 0.01595088094472885, Accuracy 1.0 \n",
            "Iteration 300 of epoch 1 complete. Loss : 0.6128931045532227, Accuracy 0.96875 \n",
            "Iteration 400 of epoch 1 complete. Loss : 0.7157066464424133, Accuracy 0.96875 \n",
            "Iteration 500 of epoch 1 complete. Loss : 1.6657708883285522, Accuracy 0.96875 \n",
            "Iteration 600 of epoch 1 complete. Loss : 0.0006060600280761719, Accuracy 1.0 \n",
            "Iteration 700 of epoch 1 complete. Loss : 0.0, Accuracy 1.0 \n",
            "Iteration 800 of epoch 1 complete. Loss : 0.09957744181156158, Accuracy 0.96875 \n",
            "Iteration 900 of epoch 1 complete. Loss : 0.0006290674209594727, Accuracy 1.0 \n",
            "EVALUATION Validation set : mean loss 8.206678748895593 || mean accuracy 0.22247517108917236\n",
            "Iteration 100 of epoch 2 complete. Loss : 3.32464599609375, Accuracy 0.96875 \n",
            "Iteration 200 of epoch 2 complete. Loss : 0.014715611934661865, Accuracy 1.0 \n",
            "Iteration 300 of epoch 2 complete. Loss : 0.028805918991565704, Accuracy 1.0 \n",
            "Iteration 400 of epoch 2 complete. Loss : 0.00014638900756835938, Accuracy 1.0 \n",
            "Iteration 500 of epoch 2 complete. Loss : 1.5516622066497803, Accuracy 0.96875 \n",
            "Iteration 600 of epoch 2 complete. Loss : 0.017488881945610046, Accuracy 1.0 \n",
            "Iteration 700 of epoch 2 complete. Loss : 0.0, Accuracy 1.0 \n",
            "Iteration 800 of epoch 2 complete. Loss : 0.0999043881893158, Accuracy 0.96875 \n",
            "Iteration 900 of epoch 2 complete. Loss : 0.0, Accuracy 1.0 \n",
            "EVALUATION Validation set : mean loss 9.565461575910943 || mean accuracy 0.21750827133655548\n"
          ],
          "name": "stdout"
        },
        {
          "output_type": "display_data",
          "data": {
            "image/png": "[encoded data removed]",
            "text/plain": [
              "<Figure size 1008x360 with 2 Axes>"
            ]
          },
          "metadata": {
            "tags": [],
            "needs_background": "light"
          }
        }
      ]
    },
    {
      "cell_type": "code",
      "metadata": {
        "id": "_HhIaM6-NrIU",
        "colab_type": "code",
        "outputId": "606e2cc3-5504-4359-9738-243a67e7106d",
        "colab": {
          "base_uri": "https://localhost:8080/",
          "height": 573
        }
      },
      "source": [
        "model.eval()\n",
        "ytest,ypred = get_predictions(model,test_loader,'cnn')\n",
        "print(classification_report(ytest,ypred,target_names = sorted_labels))\n",
        "plot_confusion_matrix(ytest,ypred,label_map=label_map)"
      ],
      "execution_count": 0,
      "outputs": [
        {
          "output_type": "stream",
          "text": [
            "              precision    recall  f1-score   support\n",
            "\n",
            "           C       0.92      0.92      0.92      1443\n",
            "           D       0.91      0.95      0.93      2734\n",
            "          ED       0.94      0.95      0.94      2187\n",
            "          EG       0.98      0.95      0.96      1825\n",
            "           G       0.94      0.90      0.92      1487\n",
            "\n",
            "    accuracy                           0.94      9676\n",
            "   macro avg       0.94      0.93      0.94      9676\n",
            "weighted avg       0.94      0.94      0.94      9676\n",
            "\n"
          ],
          "name": "stdout"
        },
        {
          "output_type": "display_data",
          "data": {
            "image/png": "[encoded data removed]",
            "text/plain": [
              "<Figure size 360x360 with 2 Axes>"
            ]
          },
          "metadata": {
            "tags": [],
            "needs_background": "light"
          }
        }
      ]
    },
    {
      "cell_type": "markdown",
      "metadata": {
        "id": "JJabc_CrV1Lo",
        "colab_type": "text"
      },
      "source": [
        "## 2.3 Classification using CamemBERT"
      ]
    },
    {
      "cell_type": "code",
      "metadata": {
        "id": "FV3frrrM0D9m",
        "colab_type": "code",
        "colab": {}
      },
      "source": [
        "dftrain,ytrain,dfval,yval,dftest,ytest,label_map = random_split_dataset(df,validation=True,deep=True)"
      ],
      "execution_count": 0,
      "outputs": []
    },
    {
      "cell_type": "markdown",
      "metadata": {
        "id": "I_HPAL84uHzr",
        "colab_type": "text"
      },
      "source": [
        "### 2.3.1 Training"
      ]
    },
    {
      "cell_type": "code",
      "metadata": {
        "id": "52nMmbInj17L",
        "colab_type": "code",
        "colab": {}
      },
      "source": [
        "#Creating instances of training and validation set\n",
        "train_set = TweetDatasetBERT(df = dftrain, maxlen = 50, model_name='camembert-base')\n",
        "val_set = TweetDatasetBERT(df = dfval, maxlen = 50, model_name='camembert-base')\n",
        "test_set = TweetDatasetBERT(df = dftest, maxlen = 50, model_name='camembert-base')\n",
        "\n",
        "#Creating intsances of training and validation dataloaders\n",
        "train_loader = DataLoader(train_set, batch_size = 32, num_workers = 5,drop_last=True)\n",
        "val_loader = DataLoader(val_set, batch_size = 32, num_workers = 5,drop_last=True)\n",
        "test_loader = DataLoader(test_set,batch_size=1,num_workers=5,drop_last=False)"
      ],
      "execution_count": 0,
      "outputs": []
    },
    {
      "cell_type": "code",
      "metadata": {
        "id": "a8ue8oQfsbs8",
        "colab_type": "code",
        "outputId": "2e240cfd-19bc-439a-b5e6-49449ef0ae62",
        "colab": {
          "base_uri": "https://localhost:8080/",
          "height": 66,
          "referenced_widgets": [
            "03f1874b5e904d4b80afe77250349fbd",
            "fefbad9ee60c40f1986c87e606732d1f",
            "88c8dd4525b146acaf00fc55a7a126a6",
            "a892733bf78443b894d36adb75ede31a",
            "8ff1d14cd18a4104a74a63c1e546fc95",
            "45f4a7128de8493aa14654fb6e4f97fd",
            "c46688e4f8e841889cbef219d48e04ab",
            "72dd0fde03684d9da0b1dc58d9ef7a9f"
          ]
        }
      },
      "source": [
        "model = CamembertClassifier('camembert-base')\n",
        "model = model.to(device)"
      ],
      "execution_count": 0,
      "outputs": [
        {
          "output_type": "display_data",
          "data": {
            "application/vnd.jupyter.widget-view+json": {
              "model_id": "03f1874b5e904d4b80afe77250349fbd",
              "version_minor": 0,
              "version_major": 2
            },
            "text/plain": [
              "HBox(children=(IntProgress(value=0, description='Downloading', max=445032417, style=ProgressStyle(description_…"
            ]
          },
          "metadata": {
            "tags": []
          }
        },
        {
          "output_type": "stream",
          "text": [
            "\n"
          ],
          "name": "stdout"
        }
      ]
    },
    {
      "cell_type": "code",
      "metadata": {
        "id": "T5xqf8oyspt-",
        "colab_type": "code",
        "colab": {}
      },
      "source": [
        "criterion = nn.CrossEntropyLoss(reduction='mean')\n",
        "optimizer = optim.Adam(model.parameters(), lr = 1e-4)\n",
        "scheduler = None"
      ],
      "execution_count": 0,
      "outputs": []
    },
    {
      "cell_type": "code",
      "metadata": {
        "id": "jLpM5QZMsrqw",
        "colab_type": "code",
        "outputId": "432c0241-86d2-40e7-f150-79e01761f670",
        "colab": {
          "base_uri": "https://localhost:8080/",
          "height": 709
        }
      },
      "source": [
        "train(model, 'bert',criterion, optimizer,scheduler, train_loader, val_loader, n_epochs=2, print_every=100, gpu=True)"
      ],
      "execution_count": 0,
      "outputs": [
        {
          "output_type": "stream",
          "text": [
            "Iteration 100 of epoch 1 complete. Loss : 1.6659659147262573, Accuracy 0.15625 \n",
            "Iteration 200 of epoch 1 complete. Loss : 1.494121789932251, Accuracy 0.5 \n",
            "Iteration 300 of epoch 1 complete. Loss : 1.519334077835083, Accuracy 0.40625 \n",
            "Iteration 400 of epoch 1 complete. Loss : 1.6268603801727295, Accuracy 0.15625 \n",
            "Iteration 500 of epoch 1 complete. Loss : 1.5794845819473267, Accuracy 0.28125 \n",
            "Iteration 600 of epoch 1 complete. Loss : 1.4947808980941772, Accuracy 0.5 \n",
            "Iteration 700 of epoch 1 complete. Loss : 1.6079844236373901, Accuracy 0.125 \n",
            "Iteration 800 of epoch 1 complete. Loss : 1.5774513483047485, Accuracy 0.28125 \n",
            "Iteration 900 of epoch 1 complete. Loss : 1.574285864830017, Accuracy 0.28125 \n",
            "EVALUATION Validation set : mean loss 1.581156177631277 || mean accuracy 0.2824917137622833\n",
            "Iteration 100 of epoch 2 complete. Loss : 1.6526890993118286, Accuracy 0.21875 \n",
            "Iteration 200 of epoch 2 complete. Loss : 1.504313588142395, Accuracy 0.5 \n",
            "Iteration 300 of epoch 2 complete. Loss : 1.5236836671829224, Accuracy 0.40625 \n",
            "Iteration 400 of epoch 2 complete. Loss : 1.6253670454025269, Accuracy 0.15625 \n",
            "Iteration 500 of epoch 2 complete. Loss : 1.6137480735778809, Accuracy 0.28125 \n",
            "Iteration 600 of epoch 2 complete. Loss : 1.5148862600326538, Accuracy 0.5 \n",
            "Iteration 700 of epoch 2 complete. Loss : 1.6332762241363525, Accuracy 0.28125 \n",
            "Iteration 800 of epoch 2 complete. Loss : 1.5762630701065063, Accuracy 0.28125 \n",
            "Iteration 900 of epoch 2 complete. Loss : 1.570735216140747, Accuracy 0.28125 \n",
            "EVALUATION Validation set : mean loss 1.5809999199103046 || mean accuracy 0.2824917137622833\n"
          ],
          "name": "stdout"
        },
        {
          "output_type": "display_data",
          "data": {
            "image/png": "[encoded data removed]",
            "text/plain": [
              "<Figure size 1008x360 with 2 Axes>"
            ]
          },
          "metadata": {
            "tags": [],
            "needs_background": "light"
          }
        }
      ]
    },
    {
      "cell_type": "markdown",
      "metadata": {
        "id": "nQJilybFuL5b",
        "colab_type": "text"
      },
      "source": [
        "### 2.3.2 Evaluation"
      ]
    },
    {
      "cell_type": "markdown",
      "metadata": {
        "id": "mqeE_qYBtYPo",
        "colab_type": "text"
      },
      "source": [
        "For the evaluation part, since we are interested in recall, precision and f1-score, we cannot simply compute an average over batches. "
      ]
    },
    {
      "cell_type": "code",
      "metadata": {
        "id": "bbv7YBD2tmlc",
        "colab_type": "code",
        "outputId": "7774eeea-e49a-413d-f797-b20ac6401f41",
        "colab": {
          "base_uri": "https://localhost:8080/",
          "height": 627
        }
      },
      "source": [
        "model.eval()\n",
        "ytest,ypred = get_predictions(model,test_loader,'bert')\n",
        "print(classification_report(ytest,ypred,target_names = sorted_labels))\n",
        "plot_confusion_matrix(ytest,ypred,label_map=label_map)"
      ],
      "execution_count": 0,
      "outputs": [
        {
          "output_type": "stream",
          "text": [
            "/usr/local/lib/python3.6/dist-packages/sklearn/metrics/_classification.py:1272: UndefinedMetricWarning: Precision and F-score are ill-defined and being set to 0.0 in labels with no predicted samples. Use `zero_division` parameter to control this behavior.\n",
            "  _warn_prf(average, modifier, msg_start, len(result))\n"
          ],
          "name": "stderr"
        },
        {
          "output_type": "stream",
          "text": [
            "              precision    recall  f1-score   support\n",
            "\n",
            "           C       0.00      0.00      0.00      1443\n",
            "           D       0.28      1.00      0.44      2734\n",
            "          ED       0.00      0.00      0.00      2187\n",
            "          EG       0.00      0.00      0.00      1825\n",
            "           G       0.00      0.00      0.00      1487\n",
            "\n",
            "    accuracy                           0.28      9676\n",
            "   macro avg       0.06      0.20      0.09      9676\n",
            "weighted avg       0.08      0.28      0.12      9676\n",
            "\n"
          ],
          "name": "stdout"
        },
        {
          "output_type": "display_data",
          "data": {
            "image/png": "[encoded data removed]",
            "text/plain": [
              "<Figure size 360x360 with 2 Axes>"
            ]
          },
          "metadata": {
            "tags": [],
            "needs_background": "light"
          }
        }
      ]
    },
    {
      "cell_type": "markdown",
      "metadata": {
        "id": "u3yhRpU5uF74",
        "colab_type": "text"
      },
      "source": [
        "### 2.3.3 Interpretation"
      ]
    },
    {
      "cell_type": "markdown",
      "metadata": {
        "id": "pegKhkj5uUJ4",
        "colab_type": "text"
      },
      "source": [
        "For this part, we want to visualize which parts of text caught the attention of the classifier. This gives us an insight about how the model works."
      ]
    },
    {
      "cell_type": "code",
      "metadata": {
        "id": "G5Hzm5fKuTdW",
        "colab_type": "code",
        "colab": {}
      },
      "source": [
        "from utils.interpretation import get_last_layer_attention,display_attention,visualize_layer_attention"
      ],
      "execution_count": 0,
      "outputs": []
    },
    {
      "cell_type": "code",
      "metadata": {
        "id": "6g1fSou6usAs",
        "colab_type": "code",
        "colab": {}
      },
      "source": [
        "sample = train_set[1]\n",
        "mean_attn,tokens,attn_data = get_last_layer_attention(model,train_set.tokenizer,sample)"
      ],
      "execution_count": 0,
      "outputs": []
    },
    {
      "cell_type": "markdown",
      "metadata": {
        "id": "3SQTDb77u5lR",
        "colab_type": "text"
      },
      "source": [
        "We visualize the attention of the 12 attention heads of the encoder's last layer (which is the one given in input ot the classifier part of our model)."
      ]
    },
    {
      "cell_type": "code",
      "metadata": {
        "id": "7_aZ1TDtuz4y",
        "colab_type": "code",
        "outputId": "cf6c821f-e208-4123-86c3-caebaf7d9d0d",
        "colab": {
          "base_uri": "https://localhost:8080/",
          "height": 311
        }
      },
      "source": [
        "visualize_layer_attention(attn_data['layer11'].cpu().detach().numpy())"
      ],
      "execution_count": 0,
      "outputs": [
        {
          "output_type": "display_data",
          "data": {
            "image/png": "[encoded data removed]",
            "text/plain": [
              "<Figure size 1008x360 with 12 Axes>"
            ]
          },
          "metadata": {
            "tags": [],
            "needs_background": "light"
          }
        }
      ]
    },
    {
      "cell_type": "markdown",
      "metadata": {
        "id": "IgkjBRXTvFqp",
        "colab_type": "text"
      },
      "source": [
        "Below is a more compact and more explicit visualization of these same attentions. it is obtained by averaging over attentions heads and rows, getting rid of useless tokens (start, end and padding tokens) and summing the attentions over tokens which are parts of the same word. Let's notice however that this procedure does not give us the ties between words of the sentence, but only which words are important and have strong ties with a certain number of other words."
      ]
    },
    {
      "cell_type": "code",
      "metadata": {
        "id": "q7k6K9tIu4uo",
        "colab_type": "code",
        "outputId": "bd981a02-3ad3-4da8-af82-b6e5c6ba3da3",
        "colab": {
          "base_uri": "https://localhost:8080/",
          "height": 140
        }
      },
      "source": [
        "display_attention(tokens,mean_attn,train_set.tokenizer)"
      ],
      "execution_count": 0,
      "outputs": [
        {
          "output_type": "display_data",
          "data": {
            "image/png": "[encoded data removed]",
            "text/plain": [
              "<Figure size 1008x144 with 1 Axes>"
            ]
          },
          "metadata": {
            "tags": [],
            "needs_background": "light"
          }
        }
      ]
    },
    {
      "cell_type": "markdown",
      "metadata": {
        "id": "dE108FMbvYLn",
        "colab_type": "text"
      },
      "source": [
        "In most cases this points to significant words in the sentences, such as \"progress\", \"solidarity\", \"deregulation\", which may mean that some political parties use them more than others (which is intuitive). Also, when the name of the candidate is present in the sentence, it attracts the attention of the model."
      ]
    },
    {
      "cell_type": "markdown",
      "metadata": {
        "id": "hz_ZuFomLh8Y",
        "colab_type": "text"
      },
      "source": [
        "# 3. Classification with time-wise splitting"
      ]
    },
    {
      "cell_type": "markdown",
      "metadata": {
        "id": "62YpzBkKLlg0",
        "colab_type": "text"
      },
      "source": [
        "In this second approach, we split the data time-wise: we train on March and we test on April and May. We expect the performances of our models to drop, especially those which are based on the count vectorizer, which will face many out-of-vocabulary words in the test set. The reason for that is that our tweets are highly contextual: they respond to events happening in a short time window before the tweet. "
      ]
    },
    {
      "cell_type": "code",
      "metadata": {
        "id": "FIZ8wcyALkrV",
        "colab_type": "code",
        "colab": {}
      },
      "source": [
        "Xtrain,ytrain,Xval,yval,Xtest,ytest,label_map = time_split_dataset(df,validation=True)"
      ],
      "execution_count": 0,
      "outputs": []
    },
    {
      "cell_type": "markdown",
      "metadata": {
        "id": "IjMHSntb-05o",
        "colab_type": "text"
      },
      "source": [
        "## 3.1 Classification without deep learning"
      ]
    },
    {
      "cell_type": "code",
      "metadata": {
        "id": "PaG-yNp2-34r",
        "colab_type": "code",
        "colab": {}
      },
      "source": [
        "classifiers = {'Logistic regression':LogisticRegression(C=1, class_weight=None, dual=False, fit_intercept=True,\n",
        "                                                        intercept_scaling=1, l1_ratio=None, max_iter=200,\n",
        "                                                        multi_class='auto', n_jobs=None, penalty='l2',\n",
        "                                                        random_state=0, solver='lbfgs', tol=0.0001, verbose=0,\n",
        "                                                        warm_start=False),\n",
        "               'SVM': SVC(C=10,random_state=0),\n",
        "               'Random Forest': RandomForestClassifier(n_estimators=300,random_state=0),\n",
        "               'Multi Layer Perceptron':MLPClassifier(hidden_layer_sizes= (100,),\n",
        "                                                      activation= 'relu',\n",
        "                                                      solver = 'adam',\n",
        "                                                      batch_size = 32,\n",
        "                                                      alpha = 0.03,\n",
        "                                                      learning_rate = 'adaptive', \n",
        "                                                      random_state=0)}"
      ],
      "execution_count": 0,
      "outputs": []
    },
    {
      "cell_type": "code",
      "metadata": {
        "id": "LKOAJlRa_DIH",
        "colab_type": "code",
        "colab": {}
      },
      "source": [
        "for name,clf in classifiers.items():\n",
        "    clf.fit(Xtrain,ytrain)\n",
        "    ypred = clf.predict(Xval)\n",
        "    boldprint('--------------'+name+'--------------')\n",
        "    print(evaluate(yval,ypred))"
      ],
      "execution_count": 0,
      "outputs": []
    },
    {
      "cell_type": "code",
      "metadata": {
        "id": "czw6VABAI2-P",
        "colab_type": "code",
        "colab": {}
      },
      "source": [
        "Xtrain_ = vstack((Xtrain, Xval)) \n",
        "ytrain_ = hstack((ytrain, yval)).T"
      ],
      "execution_count": 0,
      "outputs": []
    },
    {
      "cell_type": "code",
      "metadata": {
        "id": "nk5CJ1NC_Dty",
        "colab_type": "code",
        "colab": {}
      },
      "source": [
        "for name,clf in classifiers.items():\n",
        "    boldprint('--------------'+name+'--------------')\n",
        "    start = time.time()\n",
        "    clf.fit(Xtrain,ytrain)\n",
        "    end = time.time()\n",
        "    print(f'Training time: {end - start:.1f}s')\n",
        "    ypred = clf.predict(Xtest)\n",
        "    print(classification_report(ytest,ypred,target_names = sorted_labels))\n",
        "    plot_confusion_matrix(ytest,ypred,label_map=label_map)"
      ],
      "execution_count": 0,
      "outputs": []
    },
    {
      "cell_type": "markdown",
      "metadata": {
        "id": "r06DzikUE8ss",
        "colab_type": "text"
      },
      "source": [
        "We can observe that the models perform really worse than with the random split. It probably comes from the preprocessing: the political context evolves with time, so that we must face a lot of out-of-vocabulary words. "
      ]
    },
    {
      "cell_type": "markdown",
      "metadata": {
        "id": "jmXmcECP_V84",
        "colab_type": "text"
      },
      "source": [
        "## 3.2 Classification using custom neural networks"
      ]
    },
    {
      "cell_type": "code",
      "metadata": {
        "id": "wxeJ2Ker_ct2",
        "colab_type": "code",
        "colab": {}
      },
      "source": [
        "dftrain,ytrain,dfval,yval,dftest,ytest,label_map = time_split_dataset(df,validation=True,deep=True)"
      ],
      "execution_count": 0,
      "outputs": []
    },
    {
      "cell_type": "code",
      "metadata": {
        "id": "X5sW_mayAFG_",
        "colab_type": "code",
        "colab": {}
      },
      "source": [
        "train_set,tokenizer = build_tweet_dataset(dftrain)\n",
        "val_set, _ = build_tweet_dataset(dfval,tokenizer)\n",
        "test_set, _ = build_tweet_dataset(dftest,tokenizer)\n",
        "\n",
        "train_loader = DataLoader(train_set,batch_size = 32,num_workers = 5,drop_last=True)\n",
        "val_loader = DataLoader(val_set,batch_size = 32,num_workers = 5,drop_last=True)\n",
        "test_loader = DataLoader(test_set,batch_size = 1,num_workers = 5,drop_last=False)"
      ],
      "execution_count": 0,
      "outputs": []
    },
    {
      "cell_type": "markdown",
      "metadata": {
        "id": "TTi8U9PYAiL-",
        "colab_type": "text"
      },
      "source": [
        "### 3.2.1 Custom LSTM"
      ]
    },
    {
      "cell_type": "code",
      "metadata": {
        "id": "y4ILF0FuAkLX",
        "colab_type": "code",
        "colab": {}
      },
      "source": [
        "vocab_size = len(word_ix) + 1\n",
        "output_size = 5\n",
        "embedding_dim = 128\n",
        "hidden_dim = 100\n",
        "n_layers = 2\n",
        "model = RNN(vocab_size, output_size, embedding_dim, hidden_dim, n_layers)\n",
        "model = model.to(device)"
      ],
      "execution_count": 0,
      "outputs": []
    },
    {
      "cell_type": "code",
      "metadata": {
        "id": "Q5kCMR1CAlE5",
        "colab_type": "code",
        "colab": {}
      },
      "source": [
        "criterion = nn.CrossEntropyLoss()\n",
        "optimizer = torch.optim.Adam(model.parameters(), lr=0.05)"
      ],
      "execution_count": 0,
      "outputs": []
    },
    {
      "cell_type": "code",
      "metadata": {
        "id": "3VBNFp_gAt9D",
        "colab_type": "code",
        "colab": {}
      },
      "source": [
        "train(model, 'rnn',criterion, optimizer,scheduler, train_loader, val_loader, n_epochs=10, print_every=100, gpu=True)"
      ],
      "execution_count": 0,
      "outputs": []
    },
    {
      "cell_type": "code",
      "metadata": {
        "id": "vlUdFJBGAuod",
        "colab_type": "code",
        "colab": {}
      },
      "source": [
        "model.eval()\n",
        "ytest,ypred = get_predictions(model,test_loader,'rnn')\n",
        "print(classification_report(ytest,ypred,target_names = sorted_labels))\n",
        "plot_confusion_matrix(ytest,ypred,label_map=label_map)"
      ],
      "execution_count": 0,
      "outputs": []
    },
    {
      "cell_type": "markdown",
      "metadata": {
        "id": "E2B1AxU3D4um",
        "colab_type": "text"
      },
      "source": [
        "### 3.2.2 Custom CNN"
      ]
    },
    {
      "cell_type": "code",
      "metadata": {
        "id": "0qodVWRBD6yQ",
        "colab_type": "code",
        "colab": {}
      },
      "source": [
        "max_features = 8000\n",
        "embed_dim = 128\n",
        "model = CNN(max_features,embed_dim)\n",
        "model = model.to(device)"
      ],
      "execution_count": 0,
      "outputs": []
    },
    {
      "cell_type": "code",
      "metadata": {
        "id": "fTxFK3sCEFp5",
        "colab_type": "code",
        "colab": {}
      },
      "source": [
        "criterion = nn.CrossEntropyLoss()\n",
        "optimizer = torch.optim.Adam(model.parameters(), lr=0.01)\n",
        "lr_scheduler = torch.optim.lr_scheduler.ReduceLROnPlateau(optimizer, patience = 2, verbose=True)"
      ],
      "execution_count": 0,
      "outputs": []
    },
    {
      "cell_type": "code",
      "metadata": {
        "id": "KTEFjWxbEJr4",
        "colab_type": "code",
        "colab": {}
      },
      "source": [
        "train(model, 'cnn',criterion, optimizer,scheduler, train_loader, val_loader, n_epochs=10, print_every=100, gpu=True)"
      ],
      "execution_count": 0,
      "outputs": []
    },
    {
      "cell_type": "code",
      "metadata": {
        "id": "GGSl4aDQNu4B",
        "colab_type": "code",
        "colab": {}
      },
      "source": [
        "model.eval()\n",
        "ytest,ypred = get_predictions(model,test_loader,'cnn')\n",
        "print(classification_report(ytest,ypred,target_names = sorted_labels))\n",
        "plot_confusion_matrix(ytest,ypred,label_map=label_map)"
      ],
      "execution_count": 0,
      "outputs": []
    },
    {
      "cell_type": "markdown",
      "metadata": {
        "id": "zw8B3bNtFR5B",
        "colab_type": "text"
      },
      "source": [
        "The observations for neural networks are the same than for the first models we used: the performance dropped. "
      ]
    },
    {
      "cell_type": "markdown",
      "metadata": {
        "id": "KODlQgF3EMDl",
        "colab_type": "text"
      },
      "source": [
        "## 3.3 Using CamemBERT"
      ]
    },
    {
      "cell_type": "markdown",
      "metadata": {
        "id": "u1AE7pjJEzPr",
        "colab_type": "text"
      },
      "source": [
        "### 3.3.1 Training"
      ]
    },
    {
      "cell_type": "code",
      "metadata": {
        "id": "5k2rCuLvEPRr",
        "colab_type": "code",
        "colab": {}
      },
      "source": [
        "#Creating instances of training and validation set\n",
        "train_set = TweetDatasetBERT(df = dftrain, maxlen = 50, model_name='camembert-base')\n",
        "val_set = TweetDatasetBERT(df = dfval, maxlen = 50, model_name='camembert-base')\n",
        "test_set = TweetDatasetBERT(df = dftest, maxlen = 50, model_name='camembert-base')\n",
        "\n",
        "#Creating intsances of training and validation dataloaders\n",
        "train_loader = DataLoader(train_set, batch_size = 32, num_workers = 5,drop_last=True)\n",
        "val_loader = DataLoader(val_set, batch_size = 32, num_workers = 5,drop_last=True)\n",
        "test_loader = DataLoader(test_set,batch_size=1,num_workers=5,drop_last=False)"
      ],
      "execution_count": 0,
      "outputs": []
    },
    {
      "cell_type": "code",
      "metadata": {
        "id": "SrO6YuNjEZCk",
        "colab_type": "code",
        "colab": {}
      },
      "source": [
        "model = CamembertClassifier('camembert-base')\n",
        "model = model = model.to(device)"
      ],
      "execution_count": 0,
      "outputs": []
    },
    {
      "cell_type": "code",
      "metadata": {
        "id": "EPg375y9EcZi",
        "colab_type": "code",
        "colab": {}
      },
      "source": [
        "criterion = nn.CrossEntropyLoss(reduction='mean')\n",
        "optimizer = optim.Adam(model.parameters(), lr = 1e-4)\n",
        "scheduler = None"
      ],
      "execution_count": 0,
      "outputs": []
    },
    {
      "cell_type": "code",
      "metadata": {
        "id": "qpFAgCEKEei_",
        "colab_type": "code",
        "colab": {}
      },
      "source": [
        "train(model, 'bert',criterion, optimizer,scheduler, train_loader, val_loader, n_epochs=10, print_every=100, gpu=True)"
      ],
      "execution_count": 0,
      "outputs": []
    },
    {
      "cell_type": "markdown",
      "metadata": {
        "id": "TPjQNhG3Evr-",
        "colab_type": "text"
      },
      "source": [
        "### 3.3.2 Evaluation"
      ]
    },
    {
      "cell_type": "code",
      "metadata": {
        "id": "U_Z0F1spElfW",
        "colab_type": "code",
        "colab": {}
      },
      "source": [
        "model.eval()\n",
        "ytest,ypred = get_predictions(model,test_loader,'bert')\n",
        "print(classification_report(ytest,ypred,target_names = sorted_labels))\n",
        "plot_confusion_matrix(ytest,ypred,label_map=label_map)"
      ],
      "execution_count": 0,
      "outputs": []
    },
    {
      "cell_type": "markdown",
      "metadata": {
        "id": "5KphE1DlFb1K",
        "colab_type": "text"
      },
      "source": [
        "Despite CamemBERT being context insensitive (since it does not face out-of-vocabulary words), it still performs poorly compared to the first part. This is, in our opinion, still linked to the context: the model does not know how to map words from a new context to political lines. This suggests that there are very few \"patterns\" (ie words or phrases used specifically by one or two political parties) in the politician discourse which would be used in a majority of contexts, and upon which we could build a classifier. "
      ]
    },
    {
      "cell_type": "markdown",
      "metadata": {
        "id": "ZTcm0YJbE2Q5",
        "colab_type": "text"
      },
      "source": [
        "### 3.3.3 Interpretation"
      ]
    },
    {
      "cell_type": "code",
      "metadata": {
        "id": "DKGOPpnmEpU0",
        "colab_type": "code",
        "colab": {}
      },
      "source": [
        "sample = train_set[1]\n",
        "mean_attn,tokens,attn_data = get_last_layer_attention(model,train_set.tokenizer,sample)"
      ],
      "execution_count": 0,
      "outputs": []
    },
    {
      "cell_type": "code",
      "metadata": {
        "id": "iktkmkjiEtQ0",
        "colab_type": "code",
        "colab": {}
      },
      "source": [
        "display_attention(tokens,mean_attn,train_set.tokenizer)"
      ],
      "execution_count": 0,
      "outputs": []
    }
  ]
}